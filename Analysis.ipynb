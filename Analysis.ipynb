{
 "cells": [
  {
   "cell_type": "markdown",
   "id": "efc8580f-9dab-4dd1-9914-5bf68debde85",
   "metadata": {},
   "source": [
    "# 1. Import libraries to be used in this notebook"
   ]
  },
  {
   "cell_type": "code",
   "execution_count": 1,
   "id": "f6d7ebcb-fd4d-40f7-8a5b-31583c4d02f7",
   "metadata": {},
   "outputs": [],
   "source": [
    "import numpy as np # for array manipulation and basic scientific calculation\n",
    "import xarray as xr # To read NetCDF files\n",
    "import matplotlib.pyplot as plt # Core library for plotting\n",
    "from functions.Calc_Emis import Calc_Emis_T # Emission calculation\n",
    "from scipy.interpolate import griddata # Simple regridding"
   ]
  },
  {
   "cell_type": "markdown",
   "id": "94cc7b80-1d30-4131-9f84-55b69cfa2d54",
   "metadata": {},
   "source": [
    "# 2. Read files"
   ]
  },
  {
   "cell_type": "markdown",
   "id": "95db4bcb-4fad-4fad-a1bf-df49abc0b68b",
   "metadata": {},
   "source": [
    "## 2.1. Model output"
   ]
  },
  {
   "cell_type": "code",
   "execution_count": 2,
   "id": "37bc9e55-16da-40f4-a56f-1882566c3ec3",
   "metadata": {},
   "outputs": [],
   "source": [
    "Filebase_CONUS = '/glade/scratch/tilmes/archive/f.e22.FCcotagsNudged.ne0CONUSne30x8.cesm220.2012-01/atm/hist/f.e22.FCcotagsNudged.ne0CONUSne30x8.cesm220.2012-01.cam.h1.2013-MM.nc'\n",
    "\n",
    "# Change \"MM\" to 01~12 for a year calculation\n",
    "Files_CONUS = [] # empty list for a start\n",
    "# file list with 12 files\n",
    "for mm in np.arange(12):\n",
    "    Files_CONUS.append( Filebase_CONUS.replace('MM',str(mm+1).zfill(2)) )\n",
    "# read 12 files at once using \"mf\"dataset\n",
    "ds_CONUS = xr.open_mfdataset( Files_CONUS ) \n"
   ]
  },
  {
   "cell_type": "markdown",
   "id": "384ec9e9-c139-4252-8216-9b313e22524a",
   "metadata": {},
   "source": [
    "## 2.2. SCRIP file\n",
    "### SCRIP file has grid information that is needed to calculate area of each grid\n",
    "### Don't have to read, just locate where the files are"
   ]
  },
  {
   "cell_type": "code",
   "execution_count": 3,
   "id": "6482dd82-3729-4236-9baa-a721896e0231",
   "metadata": {},
   "outputs": [],
   "source": [
    "SCRIP_CONUS = '/glade/p/acom/MUSICA/grids/ne0CONUSne30x8/ne0CONUS_ne30x8_np4_SCRIP.nc'"
   ]
  },
  {
   "cell_type": "markdown",
   "id": "73575629-05d3-41c2-b136-6f8bbb4a41ac",
   "metadata": {},
   "source": [
    "# 3. Emission total"
   ]
  },
  {
   "cell_type": "markdown",
   "id": "554190ee-8e4f-4d0f-9773-7932157232f1",
   "metadata": {},
   "source": [
    "## 3.1. Calculate emissions for 12 months"
   ]
  },
  {
   "cell_type": "code",
   "execution_count": 4,
   "id": "7dc04fd9-686d-4916-82e8-f2232bbfa54a",
   "metadata": {},
   "outputs": [
    {
     "name": "stdout",
     "output_type": "stream",
     "text": [
      "Warning: the unit of molecular weight is not available, assuming g/mol\n",
      "Warning: the unit of molecular weight is not available, assuming g/mol\n"
     ]
    }
   ],
   "source": [
    "# Calculate CO emissions - global\n",
    "CO_Emis_global = Calc_Emis_T( ds_CONUS['SFCO'], print_results=False, \n",
    "                              mw=28., scrip_file=SCRIP_CONUS )\n",
    "# Calculate CO emissions - specify longitudes and latitudes\n",
    "CO_Emis_CONUS = Calc_Emis_T( ds_CONUS['SFCO'], print_results=False, \n",
    "                             mw=28., scrip_file=SCRIP_CONUS, \n",
    "                             lon_range=[-130,-60], lat_range=[20,55] )\n"
   ]
  },
  {
   "cell_type": "markdown",
   "id": "6fba0685-0fc7-495a-86be-749b2edb3f22",
   "metadata": {},
   "source": [
    "## 3.2 Draw a simple plot"
   ]
  },
  {
   "cell_type": "code",
   "execution_count": 5,
   "id": "944c4a72-f5f6-4ad3-a8ef-0c1ad6226c49",
   "metadata": {},
   "outputs": [
    {
     "data": {
      "text/plain": [
       "Text(0.5, 1.0, 'Global CO emissions in 2013')"
      ]
     },
     "execution_count": 5,
     "metadata": {},
     "output_type": "execute_result"
    },
    {
     "data": {
      "image/png": "[encoded data removed]",
      "text/plain": [
       "<Figure size 576x360 with 1 Axes>"
      ]
     },
     "metadata": {
      "needs_background": "light"
     },
     "output_type": "display_data"
    }
   ],
   "source": [
    "fig = plt.figure( figsize=(8,5) )\n",
    "ax = fig.add_subplot(1,1,1)\n",
    "\n",
    "# Plot global monthly CO emissions\n",
    "ax.plot( np.arange(12)+1, CO_Emis_global.emissions_total/1E9, 'ko-', lw=3, ms=10 )\n",
    "\n",
    "# === Polish the plot === \n",
    "# Font size\n",
    "ax.set_xticks( np.arange(12)+1 )\n",
    "plt.setp( ax.get_xticklabels(), fontsize=15 )\n",
    "plt.setp( ax.get_yticklabels(), fontsize=15 )\n",
    "# Add x & y axis titles\n",
    "ax.set_xlabel( 'Month', fontsize=15 )\n",
    "ax.set_ylabel( 'CO emission [Gg/month]', fontsize=15 )\n",
    "# Add a plot title\n",
    "ax.set_title( 'Global CO emissions in 2013', fontsize=17, weight='semibold' )\n",
    "\n"
   ]
  },
  {
   "cell_type": "markdown",
   "id": "e68211e2-6005-45bb-ab29-7095659d7e5d",
   "metadata": {},
   "source": [
    "# 4. Vertical profile"
   ]
  },
  {
   "cell_type": "markdown",
   "id": "40dcc85b-0348-4e67-858b-0c2363ac6dbf",
   "metadata": {},
   "source": [
    "## 4.1. Calculate vertical profile of ozone over the region of interest"
   ]
  },
  {
   "cell_type": "code",
   "execution_count": 6,
   "id": "6b212481-35db-45c0-9295-650a014a89da",
   "metadata": {},
   "outputs": [],
   "source": [
    "# Get the first month using the isel function of xarray\n",
    "# You can use it for any dimensions such as altitude\n",
    "ds_CONUS_Jan = ds_CONUS.isel(time=0)\n",
    "\n",
    "\n",
    "# Colorado region\n",
    "# Longitude in MUSICAv0 (CESM) is from 0 to 360\n",
    "lon_range = [251, 258]; lat_range=[37,41]\n",
    "\n",
    "# Get longitude & latitude\n",
    "lon = ds_CONUS_Jan['lon'].values\n",
    "lat = ds_CONUS_Jan['lat'].values\n",
    "\n",
    "# Get array indices for Colorado, based on center longitude and latitude\n",
    "Indices = np.where( ( lon >= lon_range[0] ) & ( lon <= lon_range[1] ) \\\n",
    "                  & ( lat >= lat_range[0] ) & ( lat <= lat_range[1] ) )[0]\n",
    "\n",
    "# Calculate mean ozone profile\n",
    "# The first dimension is altitude, the second is ncol\n",
    "# Use np.mean to average it over the whole Colorado region\n",
    "O3_profile = np.mean( ds_CONUS_Jan['O3'].values[:,Indices], 1 ) * 1e9\n",
    "# O3S is ozone from stratosphere\n",
    "O3S_profile = np.mean( ds_CONUS_Jan['O3S'].values[:,Indices], 1 ) * 1e9\n",
    "\n",
    "# Also get geopotential height for y-axis\n",
    "Z3_profile = np.mean( ds_CONUS_Jan['Z3'].values[:,Indices], 1 ) / 1e3\n"
   ]
  },
  {
   "cell_type": "markdown",
   "id": "350c3ca7-700b-4c3b-83d4-431126930311",
   "metadata": {},
   "source": [
    "## 4.2. Plot vertical profile"
   ]
  },
  {
   "cell_type": "code",
   "execution_count": 7,
   "id": "b4492fdc-6a7d-413d-96ee-1df3c9b70853",
   "metadata": {},
   "outputs": [
    {
     "data": {
      "text/plain": [
       "<matplotlib.legend.Legend at 0x2b68d91603d0>"
      ]
     },
     "execution_count": 7,
     "metadata": {},
     "output_type": "execute_result"
    },
    {
     "data": {
      "image/png": "[encoded data removed]",
      "text/plain": [
       "<Figure size 576x360 with 1 Axes>"
      ]
     },
     "metadata": {
      "needs_background": "light"
     },
     "output_type": "display_data"
    }
   ],
   "source": [
    "fig = plt.figure( figsize=(8,5) )\n",
    "ax = fig.add_subplot(1,1,1)\n",
    "\n",
    "# Plot O3 profile\n",
    "ax.plot( O3_profile[15:], Z3_profile[15:], 'ko-', lw=3, label='O3' )\n",
    "ax.plot( O3S_profile[15:], Z3_profile[15:], 'bo-', lw=3, label='O3S' )\n",
    "\n",
    "# === Polish the plot === \n",
    "# Font size\n",
    "plt.setp( ax.get_xticklabels(), fontsize=15 )\n",
    "plt.setp( ax.get_yticklabels(), fontsize=15 )\n",
    "# Add x & y axis titles\n",
    "ax.set_xlabel( 'O3 [ppbv]', fontsize=15 )\n",
    "ax.set_ylabel( 'Geopotential Height [km]', fontsize=15 )\n",
    "# Add a plot title\n",
    "ax.set_title( 'O3 profile over Colorado', fontsize=17, weight='semibold' )\n",
    "\n",
    "# Add a legend\n",
    "ax.legend( fontsize=15, loc=0 )\n"
   ]
  },
  {
   "cell_type": "markdown",
   "id": "482ade78-be22-4fb4-8bf8-0bee76943f4f",
   "metadata": {},
   "source": [
    "# 5. Cross section"
   ]
  },
  {
   "cell_type": "markdown",
   "id": "248263cf-156f-4266-b00e-739b58b79414",
   "metadata": {},
   "source": [
    "## 5.1. Regrid data to a traditional lat/lon grid\n",
    "### This example uses griddata function by Scipy library. \n",
    "### For advanced regridding methods, use ESMPy (https://earthsystemmodeling.org/esmpy_doc/release/latest/html/intro.html)"
   ]
  },
  {
   "cell_type": "code",
   "execution_count": null,
   "id": "87d45d9e-04b2-4e22-980d-fe795514d520",
   "metadata": {},
   "outputs": [],
   "source": [
    "# This will define the lat/lon range we are using to correspond to global 1x1 grid\n",
    "x = np.linspace(0.5,359.5,360)\n",
    "y = np.linspace(-89.5,89.5,90)\n",
    "# This will put lat and lon into arrays, something that is needed for plotting\n",
    "X, Y = np.meshgrid(x,y)\n",
    "# Here we are putting the unstructured data onto our defined 1x1 grid using linear interpolation\n",
    "Regridded_PRECC = griddata( (lon,lat), ds_CONUS_Jan['PRECC'].values, (X, Y), method='linear')\n",
    "Regridded_PRECL = griddata( (lon,lat), ds_CONUS_Jan['PRECL'].values, (X, Y), method='linear')\n",
    "\n",
    "# Make zonal-mean\n",
    "# use nanmean instead of mean to deal with nan values around the pole\n",
    "# PRECL and PRECC are in m/s. 8.64e7 is used to convert m/s to mm/day\n",
    "Zmean_PRECC = np.nanmean( Regridded_PRECC, 1 ) * 8.64e7\n",
    "Zmean_PRECL = np.nanmean( Regridded_PRECL, 1 ) * 8.64e7"
   ]
  },
  {
   "cell_type": "markdown",
   "id": "899edf4e-04fa-4f80-8292-ca74ed4a154f",
   "metadata": {},
   "source": [
    "## 5.2. Plot meridional cross section"
   ]
  },
  {
   "cell_type": "code",
   "execution_count": null,
   "id": "876b765f-5db5-4b77-9587-a5e4a7d5a07b",
   "metadata": {},
   "outputs": [],
   "source": [
    "fig = plt.figure( figsize=(8,5) )\n",
    "ax = fig.add_subplot(1,1,1)\n",
    "\n",
    "# Plot global monthly CO emissions\n",
    "ax.plot( y, Zmean_PRECC, 'k-', label='Convective' )\n",
    "ax.plot( y, Zmean_PRECL, 'b-', label='Large-scale' )\n",
    "\n",
    "# === Polish the plot === \n",
    "# Set x-axis ticks\n",
    "ax.set_xticks( [-90,-60,-30,0,30,60,90] )\n",
    "# Font size\n",
    "plt.setp( ax.get_xticklabels(), fontsize=15 )\n",
    "plt.setp( ax.get_yticklabels(), fontsize=15 )\n",
    "# Add x & y axis titles\n",
    "ax.set_xlabel( 'Latitude [degrees]', fontsize=15 )\n",
    "ax.set_ylabel( 'Precipitation rate [mm/day]', fontsize=15 )\n",
    "# Add a plot title\n",
    "ax.set_title( 'Zonal-mean precipitation rate', fontsize=17 )\n",
    "\n",
    "# Add a legend\n",
    "ax.legend( fontsize=15, loc=0 )"
   ]
  },
  {
   "cell_type": "code",
   "execution_count": null,
   "id": "597e904e-0cfa-4bfb-bc4d-8f5edea0d53b",
   "metadata": {},
   "outputs": [],
   "source": []
  }
 ],
 "metadata": {
  "kernelspec": {
   "display_name": "CMIP6 2019.10",
   "language": "python",
   "name": "cmip6-201910"
  },
  "language_info": {
   "codemirror_mode": {
    "name": "ipython",
    "version": 3
   },
   "file_extension": ".py",
   "mimetype": "text/x-python",
   "name": "python",
   "nbconvert_exporter": "python",
   "pygments_lexer": "ipython3",
   "version": "3.7.10"
  }
 },
 "nbformat": 4,
 "nbformat_minor": 5
}
