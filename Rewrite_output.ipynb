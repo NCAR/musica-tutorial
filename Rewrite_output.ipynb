{
 "cells": [
  {
   "cell_type": "markdown",
   "id": "59e670f3-f514-4d37-8b58-eaf7f3592c65",
   "metadata": {
    "tags": []
   },
   "source": [
    "# 1. Import libraries to be used in this notebook"
   ]
  },
  {
   "cell_type": "code",
   "execution_count": 1,
   "id": "7e1f4d37-3f80-4a17-9160-83abc5c377ed",
   "metadata": {},
   "outputs": [],
   "source": [
    "import numpy as np # for array manipulation and basic scientific calculation\n",
    "import xarray as xr # To read NetCDF files\n",
    "from scipy.interpolate import griddata # Simple regridding\n",
    "from netCDF4 import Dataset # To write NetCDF files"
   ]
  },
  {
   "cell_type": "markdown",
   "id": "9c901d43-2244-47f2-996b-8d2409bff997",
   "metadata": {},
   "source": [
    "# 2. Read a model output with unstructured grid (CONUS)"
   ]
  },
  {
   "cell_type": "code",
   "execution_count": 2,
   "id": "f2034456-640b-420c-99d6-68073715934a",
   "metadata": {},
   "outputs": [],
   "source": [
    "File_CONUS = '/glade/campaign/acom/acom-climate/tilmes/CO_CONUS/f.e22.FCcotagsNudged.ne0CONUSne30x8.cesm220.2012-01/atm/hist/f.e22.FCcotagsNudged.ne0CONUSne30x8.cesm220.2012-01.cam.h1.2013-08.nc'\n",
    "ds_CONUS = xr.open_dataset( File_CONUS ) \n"
   ]
  },
  {
   "cell_type": "markdown",
   "id": "ad1eca02-b152-40eb-b880-39f2f0ecaf6a",
   "metadata": {},
   "source": [
    "# 2. Regrid using linear and nearest interpolation "
   ]
  },
  {
   "cell_type": "code",
   "execution_count": 3,
   "id": "bd369f71-a264-4654-b7c1-a946ddb441c2",
   "metadata": {},
   "outputs": [],
   "source": [
    "# This will define the lat/lon range we are using to correspond to 0.1x0.1 over CONUS\n",
    "lon2d = np.linspace(210,310,1001)\n",
    "lat2d =  np.linspace(0,70,701)\n",
    "\n",
    "# This will put lat and lon into arrays, something that is needed for plotting\n",
    "X, Y = np.meshgrid(lon2d,lat2d)\n",
    "\n",
    "# We will also need the model lat/lon values for regridding\n",
    "mdllat = ds_CONUS['lat']\n",
    "mdllon = ds_CONUS['lon']\n",
    "\n",
    "# Here we use scipy to interpolate the 1D data to the prescribed 2D grid (nearest and linear)\n",
    "o3near = griddata((mdllon,mdllat), ds_CONUS.isel(time=0,lev=31)['O3'], (X, Y), method='nearest')\n",
    "o3lin = griddata((mdllon,mdllat), ds_CONUS.isel(time=0,lev=31)['O3'], (X, Y), method='linear')\n",
    "\n",
    "# You can use mathematical functions to manipulate numpy arrays easily, i.e. for unit conversions\n",
    "o3lin = o3lin*1e9"
   ]
  },
  {
   "cell_type": "markdown",
   "id": "366c9389-e168-45b8-8b3f-7faa01adfbce",
   "metadata": {},
   "source": [
    "# 3. Write the output to a NetCDF file"
   ]
  },
  {
   "cell_type": "code",
   "execution_count": 4,
   "id": "b6d31c94-2619-440b-a3ef-f1d593e12db3",
   "metadata": {},
   "outputs": [],
   "source": [
    "# We have defined the file location here and opened the dataset\n",
    "ds_output = Dataset('./CONUS_0.1x0.1.nc', 'w', format='NETCDF4')\n",
    "\n",
    "# First create the dimension of the netcdf, for this example it is just lat and lon\n",
    "lat = ds_output.createDimension('lat', np.size(lat2d))\n",
    "lon = ds_output.createDimension('lon', np.size(lon2d))\n",
    "\n",
    "# Then create the variables, this included the dimensions and tracers you want written into the file\n",
    "lats = ds_output.createVariable('lat', 'f4', ('lat',))\n",
    "lons = ds_output.createVariable('lon', 'f4', ('lon',))\n",
    "O3near = ds_output.createVariable('O3near', 'f4', ('lat', 'lon',))\n",
    "O3lin = ds_output.createVariable('O3lin', 'f4', ('lat', 'lon',))\n",
    "\n",
    "# You can also assign attributes to the files as well, such as units or molecular weights\n",
    "O3near.units = 'mol/mol'\n",
    "O3lin.units = 'ppb'\n",
    "\n",
    "# Now we can assign the values from the numpy arrays we have calculated above\n",
    "lats[:] = lat2d\n",
    "lons[:] = lon2d\n",
    "O3near[:,:] = o3near\n",
    "O3lin[:,:] = o3lin\n",
    "\n",
    "# Be sure to close the netcdf at the end of each call or you may run into issues when trying to access it later in the code\n",
    "ds_output.close()"
   ]
  }
 ],
 "metadata": {
  "kernelspec": {
   "display_name": "NPL-3.7.9",
   "language": "python",
   "name": "npl-3.7.9"
  },
  "language_info": {
   "codemirror_mode": {
    "name": "ipython",
    "version": 3
   },
   "file_extension": ".py",
   "mimetype": "text/x-python",
   "name": "python",
   "nbconvert_exporter": "python",
   "pygments_lexer": "ipython3",
   "version": "3.7.9"
  }
 },
 "nbformat": 4,
 "nbformat_minor": 5
}
